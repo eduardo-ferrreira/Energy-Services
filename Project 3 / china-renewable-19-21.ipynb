{
 "cells": [
  {
   "cell_type": "markdown",
   "id": "299fe320",
   "metadata": {},
   "source": [
    "## Import libraries"
   ]
  },
  {
   "cell_type": "code",
   "execution_count": 1,
   "id": "d9287632",
   "metadata": {},
   "outputs": [],
   "source": [
    "import pandas as pd # data science library o manipulate data\n",
    "import matplotlib.pyplot as plt # visualization library\n",
    "import pickle"
   ]
  },
  {
   "cell_type": "markdown",
   "id": "27bbc410",
   "metadata": {},
   "source": [
    "## Cleaning Data and Preparation"
   ]
  },
  {
   "cell_type": "code",
   "execution_count": 2,
   "id": "78728b61",
   "metadata": {},
   "outputs": [],
   "source": [
    "countries_renewable = pd.read_csv('renewable-share-energy.csv')\n",
    "\n",
    "austria_renewable = countries_renewable.loc[(countries_renewable['Entity'] == 'Austria') \n",
    "                                            & (countries_renewable['Year']>1989)] #select Austria data from 1990-2021\n",
    "austria_renewable = austria_renewable.rename(columns={'Year': 'date',\n",
    "                    'Renewables (% equivalent primary energy)': 'Austria Renewables (% equivalent primary energy)'})\n",
    "austria_renewable['date'] = pd.to_datetime(austria_renewable['date'], format='%Y').dt.year\n",
    "austria_renewable = austria_renewable[['date', 'Austria Renewables (% equivalent primary energy)']]\n",
    "austria_renewable = austria_renewable.set_index('date')"
   ]
  },
  {
   "cell_type": "code",
   "execution_count": 3,
   "id": "8f896d13",
   "metadata": {},
   "outputs": [],
   "source": [
    "data = pd.read_csv('data_clean_china.csv')\n",
    "data = data.set_index('date')\n",
    "data = data.drop(columns=['Inflation (%)','GDP Growth (%)']) #drop non features\n",
    "data = data.rename(columns={'Renewables (% equivalent primary energy)': 'Austria Renewables (% equivalent primary energy)'})\n",
    "data = data.iloc[:, [0,1,2,3,4,5]] # Change the position of the columns so that Y=column 0 and X all the remaining\n",
    "data['Austria Renewables (% equivalent primary energy)'] = austria_renewable['Austria Renewables (% equivalent primary energy)']"
   ]
  },
  {
   "cell_type": "code",
   "execution_count": 4,
   "id": "e041a169",
   "metadata": {},
   "outputs": [],
   "source": [
    "data.to_csv('china_austria_data.csv', index=True)"
   ]
  },
  {
   "cell_type": "markdown",
   "id": "50303561",
   "metadata": {},
   "source": [
    "## Regression Model"
   ]
  },
  {
   "cell_type": "code",
   "execution_count": 5,
   "id": "a1d7ae25",
   "metadata": {},
   "outputs": [],
   "source": [
    "#Load LR model\n",
    "with open('LR_model.pkl','rb') as file:\n",
    "    LR_model=pickle.load(file)"
   ]
  },
  {
   "cell_type": "code",
   "execution_count": 6,
   "id": "09eb270c",
   "metadata": {},
   "outputs": [
    {
     "data": {
      "text/html": [
       "<div>\n",
       "<style scoped>\n",
       "    .dataframe tbody tr th:only-of-type {\n",
       "        vertical-align: middle;\n",
       "    }\n",
       "\n",
       "    .dataframe tbody tr th {\n",
       "        vertical-align: top;\n",
       "    }\n",
       "\n",
       "    .dataframe thead th {\n",
       "        text-align: right;\n",
       "    }\n",
       "</style>\n",
       "<table border=\"1\" class=\"dataframe\">\n",
       "  <thead>\n",
       "    <tr style=\"text-align: right;\">\n",
       "      <th></th>\n",
       "      <th>Kilotons of Co2</th>\n",
       "      <th>Population</th>\n",
       "      <th>GDP (Billions of $US)</th>\n",
       "      <th>GDP Per Capita (US $)</th>\n",
       "      <th>kWh per Capita</th>\n",
       "      <th>Austria Renewables (% equivalent primary energy)</th>\n",
       "    </tr>\n",
       "    <tr>\n",
       "      <th>date</th>\n",
       "      <th></th>\n",
       "      <th></th>\n",
       "      <th></th>\n",
       "      <th></th>\n",
       "      <th></th>\n",
       "      <th></th>\n",
       "    </tr>\n",
       "  </thead>\n",
       "  <tbody>\n",
       "    <tr>\n",
       "      <th>2019</th>\n",
       "      <td>1.070722e+07</td>\n",
       "      <td>1421864031</td>\n",
       "      <td>16624.523980</td>\n",
       "      <td>10143.8382</td>\n",
       "      <td>5161</td>\n",
       "      <td>35.611378</td>\n",
       "    </tr>\n",
       "    <tr>\n",
       "      <th>2020</th>\n",
       "      <td>1.020722e+07</td>\n",
       "      <td>1424929781</td>\n",
       "      <td>17176.865661</td>\n",
       "      <td>10408.6698</td>\n",
       "      <td>5331</td>\n",
       "      <td>38.260670</td>\n",
       "    </tr>\n",
       "    <tr>\n",
       "      <th>2021</th>\n",
       "      <td>1.070797e+07</td>\n",
       "      <td>1425893465</td>\n",
       "      <td>19429.069638</td>\n",
       "      <td>12556.3331</td>\n",
       "      <td>5500</td>\n",
       "      <td>37.481792</td>\n",
       "    </tr>\n",
       "  </tbody>\n",
       "</table>\n",
       "</div>"
      ],
      "text/plain": [
       "      Kilotons of Co2  Population  GDP (Billions of $US)  \\\n",
       "date                                                       \n",
       "2019     1.070722e+07  1421864031           16624.523980   \n",
       "2020     1.020722e+07  1424929781           17176.865661   \n",
       "2021     1.070797e+07  1425893465           19429.069638   \n",
       "\n",
       "      GDP Per Capita (US $)  kWh per Capita  \\\n",
       "date                                          \n",
       "2019             10143.8382            5161   \n",
       "2020             10408.6698            5331   \n",
       "2021             12556.3331            5500   \n",
       "\n",
       "      Austria Renewables (% equivalent primary energy)  \n",
       "date                                                    \n",
       "2019                                         35.611378  \n",
       "2020                                         38.260670  \n",
       "2021                                         37.481792  "
      ]
     },
     "execution_count": 6,
     "metadata": {},
     "output_type": "execute_result"
    }
   ],
   "source": [
    "data = data.loc[2019:2021]\n",
    "data"
   ]
  },
  {
   "cell_type": "code",
   "execution_count": 7,
   "id": "be1d6cde",
   "metadata": {},
   "outputs": [],
   "source": [
    "Z = data.values\n",
    "X = Z[:,[1,2,3,4,5]] #features selected"
   ]
  },
  {
   "cell_type": "code",
   "execution_count": 8,
   "id": "236a0735",
   "metadata": {},
   "outputs": [],
   "source": [
    "y_test = Z[:, 0]\n",
    "y_pred_LR = LR_model.predict(X)"
   ]
  },
  {
   "cell_type": "code",
   "execution_count": 9,
   "id": "cca00dd9",
   "metadata": {
    "scrolled": true
   },
   "outputs": [
    {
     "data": {
      "image/png": "[encoded data removed]",
      "text/plain": [
       "<Figure size 640x480 with 1 Axes>"
      ]
     },
     "metadata": {},
     "output_type": "display_data"
    }
   ],
   "source": [
    "plt.plot(y_test)\n",
    "plt.plot(y_pred_LR)\n",
    "plt.show()"
   ]
  }
 ],
 "metadata": {
  "kernelspec": {
   "display_name": "Python 3 (ipykernel)",
   "language": "python",
   "name": "python3"
  },
  "language_info": {
   "codemirror_mode": {
    "name": "ipython",
    "version": 3
   },
   "file_extension": ".py",
   "mimetype": "text/x-python",
   "name": "python",
   "nbconvert_exporter": "python",
   "pygments_lexer": "ipython3",
   "version": "3.10.9"
  }
 },
 "nbformat": 4,
 "nbformat_minor": 5
}
