{
 "cells": [
  {
   "cell_type": "code",
   "execution_count": 1,
   "id": "a6a10010",
   "metadata": {},
   "outputs": [],
   "source": [
    "import pandas as pd # data science library o manipulate data\n",
    "import matplotlib.pyplot as plt # visualization library\n",
    "import seaborn as sb #visualization library specific for data science, based on matplotlib \n",
    "from sklearn.model_selection import train_test_split\n",
    "from sklearn import  metrics\n",
    "import statsmodels.api as sm\n",
    "import pickle"
   ]
  },
  {
   "cell_type": "code",
   "execution_count": 2,
   "id": "04f82b05",
   "metadata": {
    "scrolled": true
   },
   "outputs": [],
   "source": [
    "carbon_emissions = pd.read_csv('china_carbon_co2_emissions.csv') #loads co2 emissions from 1990 to 2021\n",
    "\n",
    "# Clean the CO2 emissions data\n",
    "carbon_emissions['date'] = pd.to_datetime(carbon_emissions['date']).dt.year\n",
    "carbon_emissions = carbon_emissions[['date', ' Kilotons of Co2']]\n",
    "carbon_emissions = carbon_emissions.set_index('date')"
   ]
  },
  {
   "cell_type": "code",
   "execution_count": 3,
   "id": "000017f0",
   "metadata": {},
   "outputs": [],
   "source": [
    "gdp = pd.read_csv('china_gdp.csv') #loads china gdp from 1990 to 2021  \n",
    "\n",
    "\n",
    "# Clean the GDP data\n",
    "gdp = gdp.rename(columns={'TIME': 'date', 'Value': 'GDP (Billions of $US)'})\n",
    "gdp['date'] = pd.to_datetime(gdp['date'], format='%Y').dt.year\n",
    "gdp = gdp[['date', 'GDP (Billions of $US)']]\n",
    "gdp = gdp.set_index('date')"
   ]
  },
  {
   "cell_type": "code",
   "execution_count": 4,
   "id": "b19419a9",
   "metadata": {},
   "outputs": [],
   "source": [
    "inflation = pd.read_csv('china_inflation.csv') #loads china inflaction from 1990 to 2021\n",
    "\n",
    "# Clean the inflation data\n",
    "inflation = inflation.rename(columns={'TIME': 'date', 'Value': 'Inflation (%)'})\n",
    "inflation = inflation[['date', 'Inflation (%)']]\n",
    "inflation['date'] = pd.to_datetime(inflation['date'], format='%Y').dt.year\n",
    "inflation = inflation.set_index('date')"
   ]
  },
  {
   "cell_type": "code",
   "execution_count": 5,
   "id": "e6b4edae",
   "metadata": {},
   "outputs": [],
   "source": [
    "power_consumption_capita = pd.read_csv('china_Power_Consumptiom_per_capita.csv') #loads china power consuption per capita from 1990 to 2021\n",
    "\n",
    "# Clean the energy consumption data\n",
    "power_consumption_capita['date'] = pd.to_datetime(power_consumption_capita['date'], format='%Y').dt.year\n",
    "power_consumption_capita = power_consumption_capita.set_index('date')"
   ]
  },
  {
   "cell_type": "code",
   "execution_count": 6,
   "id": "cf07fec5",
   "metadata": {},
   "outputs": [
    {
     "ename": "ValueError",
     "evalue": "unconverted data remains: -12-31",
     "output_type": "error",
     "traceback": [
      "\u001b[1;31m---------------------------------------------------------------------------\u001b[0m",
      "\u001b[1;31mValueError\u001b[0m                                Traceback (most recent call last)",
      "Cell \u001b[1;32mIn[6], line 5\u001b[0m\n\u001b[0;32m      3\u001b[0m \u001b[38;5;66;03m# Clean the population data\u001b[39;00m\n\u001b[0;32m      4\u001b[0m population \u001b[38;5;241m=\u001b[39m population[[\u001b[38;5;124m'\u001b[39m\u001b[38;5;124mdate\u001b[39m\u001b[38;5;124m'\u001b[39m, \u001b[38;5;124m'\u001b[39m\u001b[38;5;124m Population\u001b[39m\u001b[38;5;124m'\u001b[39m]]\n\u001b[1;32m----> 5\u001b[0m population[\u001b[38;5;124m'\u001b[39m\u001b[38;5;124mdate\u001b[39m\u001b[38;5;124m'\u001b[39m] \u001b[38;5;241m=\u001b[39m \u001b[43mpd\u001b[49m\u001b[38;5;241;43m.\u001b[39;49m\u001b[43mto_datetime\u001b[49m\u001b[43m(\u001b[49m\u001b[43mpopulation\u001b[49m\u001b[43m[\u001b[49m\u001b[38;5;124;43m'\u001b[39;49m\u001b[38;5;124;43mdate\u001b[39;49m\u001b[38;5;124;43m'\u001b[39;49m\u001b[43m]\u001b[49m\u001b[43m,\u001b[49m\u001b[43m \u001b[49m\u001b[38;5;28;43mformat\u001b[39;49m\u001b[38;5;241;43m=\u001b[39;49m\u001b[38;5;124;43m'\u001b[39;49m\u001b[38;5;124;43m%\u001b[39;49m\u001b[38;5;124;43mY\u001b[39;49m\u001b[38;5;124;43m'\u001b[39;49m\u001b[43m)\u001b[49m\u001b[38;5;241m.\u001b[39mdt\u001b[38;5;241m.\u001b[39myear\n\u001b[0;32m      6\u001b[0m population \u001b[38;5;241m=\u001b[39m population\u001b[38;5;241m.\u001b[39mset_index(\u001b[38;5;124m'\u001b[39m\u001b[38;5;124mdate\u001b[39m\u001b[38;5;124m'\u001b[39m)\n",
      "File \u001b[1;32m~\\anaconda3\\lib\\site-packages\\pandas\\core\\tools\\datetimes.py:1068\u001b[0m, in \u001b[0;36mto_datetime\u001b[1;34m(arg, errors, dayfirst, yearfirst, utc, format, exact, unit, infer_datetime_format, origin, cache)\u001b[0m\n\u001b[0;32m   1066\u001b[0m         result \u001b[38;5;241m=\u001b[39m arg\u001b[38;5;241m.\u001b[39mmap(cache_array)\n\u001b[0;32m   1067\u001b[0m     \u001b[38;5;28;01melse\u001b[39;00m:\n\u001b[1;32m-> 1068\u001b[0m         values \u001b[38;5;241m=\u001b[39m \u001b[43mconvert_listlike\u001b[49m\u001b[43m(\u001b[49m\u001b[43marg\u001b[49m\u001b[38;5;241;43m.\u001b[39;49m\u001b[43m_values\u001b[49m\u001b[43m,\u001b[49m\u001b[43m \u001b[49m\u001b[38;5;28;43mformat\u001b[39;49m\u001b[43m)\u001b[49m\n\u001b[0;32m   1069\u001b[0m         result \u001b[38;5;241m=\u001b[39m arg\u001b[38;5;241m.\u001b[39m_constructor(values, index\u001b[38;5;241m=\u001b[39marg\u001b[38;5;241m.\u001b[39mindex, name\u001b[38;5;241m=\u001b[39marg\u001b[38;5;241m.\u001b[39mname)\n\u001b[0;32m   1070\u001b[0m \u001b[38;5;28;01melif\u001b[39;00m \u001b[38;5;28misinstance\u001b[39m(arg, (ABCDataFrame, abc\u001b[38;5;241m.\u001b[39mMutableMapping)):\n",
      "File \u001b[1;32m~\\anaconda3\\lib\\site-packages\\pandas\\core\\tools\\datetimes.py:430\u001b[0m, in \u001b[0;36m_convert_listlike_datetimes\u001b[1;34m(arg, format, name, tz, unit, errors, infer_datetime_format, dayfirst, yearfirst, exact)\u001b[0m\n\u001b[0;32m    427\u001b[0m         \u001b[38;5;28mformat\u001b[39m \u001b[38;5;241m=\u001b[39m \u001b[38;5;28;01mNone\u001b[39;00m\n\u001b[0;32m    429\u001b[0m \u001b[38;5;28;01mif\u001b[39;00m \u001b[38;5;28mformat\u001b[39m \u001b[38;5;129;01mis\u001b[39;00m \u001b[38;5;129;01mnot\u001b[39;00m \u001b[38;5;28;01mNone\u001b[39;00m:\n\u001b[1;32m--> 430\u001b[0m     res \u001b[38;5;241m=\u001b[39m \u001b[43m_to_datetime_with_format\u001b[49m\u001b[43m(\u001b[49m\n\u001b[0;32m    431\u001b[0m \u001b[43m        \u001b[49m\u001b[43marg\u001b[49m\u001b[43m,\u001b[49m\u001b[43m \u001b[49m\u001b[43morig_arg\u001b[49m\u001b[43m,\u001b[49m\u001b[43m \u001b[49m\u001b[43mname\u001b[49m\u001b[43m,\u001b[49m\u001b[43m \u001b[49m\u001b[43mtz\u001b[49m\u001b[43m,\u001b[49m\u001b[43m \u001b[49m\u001b[38;5;28;43mformat\u001b[39;49m\u001b[43m,\u001b[49m\u001b[43m \u001b[49m\u001b[43mexact\u001b[49m\u001b[43m,\u001b[49m\u001b[43m \u001b[49m\u001b[43merrors\u001b[49m\u001b[43m,\u001b[49m\u001b[43m \u001b[49m\u001b[43minfer_datetime_format\u001b[49m\n\u001b[0;32m    432\u001b[0m \u001b[43m    \u001b[49m\u001b[43m)\u001b[49m\n\u001b[0;32m    433\u001b[0m     \u001b[38;5;28;01mif\u001b[39;00m res \u001b[38;5;129;01mis\u001b[39;00m \u001b[38;5;129;01mnot\u001b[39;00m \u001b[38;5;28;01mNone\u001b[39;00m:\n\u001b[0;32m    434\u001b[0m         \u001b[38;5;28;01mreturn\u001b[39;00m res\n",
      "File \u001b[1;32m~\\anaconda3\\lib\\site-packages\\pandas\\core\\tools\\datetimes.py:538\u001b[0m, in \u001b[0;36m_to_datetime_with_format\u001b[1;34m(arg, orig_arg, name, tz, fmt, exact, errors, infer_datetime_format)\u001b[0m\n\u001b[0;32m    535\u001b[0m         \u001b[38;5;28;01mreturn\u001b[39;00m _box_as_indexlike(result, utc\u001b[38;5;241m=\u001b[39mutc, name\u001b[38;5;241m=\u001b[39mname)\n\u001b[0;32m    537\u001b[0m \u001b[38;5;66;03m# fallback\u001b[39;00m\n\u001b[1;32m--> 538\u001b[0m res \u001b[38;5;241m=\u001b[39m \u001b[43m_array_strptime_with_fallback\u001b[49m\u001b[43m(\u001b[49m\n\u001b[0;32m    539\u001b[0m \u001b[43m    \u001b[49m\u001b[43marg\u001b[49m\u001b[43m,\u001b[49m\u001b[43m \u001b[49m\u001b[43mname\u001b[49m\u001b[43m,\u001b[49m\u001b[43m \u001b[49m\u001b[43mtz\u001b[49m\u001b[43m,\u001b[49m\u001b[43m \u001b[49m\u001b[43mfmt\u001b[49m\u001b[43m,\u001b[49m\u001b[43m \u001b[49m\u001b[43mexact\u001b[49m\u001b[43m,\u001b[49m\u001b[43m \u001b[49m\u001b[43merrors\u001b[49m\u001b[43m,\u001b[49m\u001b[43m \u001b[49m\u001b[43minfer_datetime_format\u001b[49m\n\u001b[0;32m    540\u001b[0m \u001b[43m\u001b[49m\u001b[43m)\u001b[49m\n\u001b[0;32m    541\u001b[0m \u001b[38;5;28;01mreturn\u001b[39;00m res\n",
      "File \u001b[1;32m~\\anaconda3\\lib\\site-packages\\pandas\\core\\tools\\datetimes.py:473\u001b[0m, in \u001b[0;36m_array_strptime_with_fallback\u001b[1;34m(arg, name, tz, fmt, exact, errors, infer_datetime_format)\u001b[0m\n\u001b[0;32m    470\u001b[0m utc \u001b[38;5;241m=\u001b[39m tz \u001b[38;5;241m==\u001b[39m \u001b[38;5;124m\"\u001b[39m\u001b[38;5;124mutc\u001b[39m\u001b[38;5;124m\"\u001b[39m\n\u001b[0;32m    472\u001b[0m \u001b[38;5;28;01mtry\u001b[39;00m:\n\u001b[1;32m--> 473\u001b[0m     result, timezones \u001b[38;5;241m=\u001b[39m \u001b[43marray_strptime\u001b[49m\u001b[43m(\u001b[49m\u001b[43marg\u001b[49m\u001b[43m,\u001b[49m\u001b[43m \u001b[49m\u001b[43mfmt\u001b[49m\u001b[43m,\u001b[49m\u001b[43m \u001b[49m\u001b[43mexact\u001b[49m\u001b[38;5;241;43m=\u001b[39;49m\u001b[43mexact\u001b[49m\u001b[43m,\u001b[49m\u001b[43m \u001b[49m\u001b[43merrors\u001b[49m\u001b[38;5;241;43m=\u001b[39;49m\u001b[43merrors\u001b[49m\u001b[43m)\u001b[49m\n\u001b[0;32m    474\u001b[0m \u001b[38;5;28;01mexcept\u001b[39;00m OutOfBoundsDatetime:\n\u001b[0;32m    475\u001b[0m     \u001b[38;5;28;01mif\u001b[39;00m errors \u001b[38;5;241m==\u001b[39m \u001b[38;5;124m\"\u001b[39m\u001b[38;5;124mraise\u001b[39m\u001b[38;5;124m\"\u001b[39m:\n",
      "File \u001b[1;32m~\\anaconda3\\lib\\site-packages\\pandas\\_libs\\tslibs\\strptime.pyx:156\u001b[0m, in \u001b[0;36mpandas._libs.tslibs.strptime.array_strptime\u001b[1;34m()\u001b[0m\n",
      "\u001b[1;31mValueError\u001b[0m: unconverted data remains: -12-31"
     ]
    }
   ],
   "source": [
    "population = pd.read_csv('china-population.csv') #loads china population from 1990 to 2021\n",
    "\n",
    "# Clean the population data\n",
    "population = population[['date', ' Population']]\n",
    "population['date'] = pd.to_datetime(population['date'], format='%Y').dt.year\n",
    "population = population.set_index('date')"
   ]
  },
  {
   "cell_type": "code",
   "execution_count": null,
   "id": "7546be6c",
   "metadata": {},
   "outputs": [],
   "source": [
    "countries_renewable = pd.read_csv('renewable-share-energy.csv')\n",
    "\n",
    "renewable_energy = countries_renewable.loc[(countries_renewable['Entity'] == 'China') & (countries_renewable['Year']>1989)]\n",
    "renewable_energy = renewable_energy.rename(columns={'Year': 'date'})\n",
    "renewable_energy['date'] = pd.to_datetime(renewable_energy['date'], format='%Y').dt.year\n",
    "renewable_energy = renewable_energy[['date', 'Renewables (% equivalent primary energy)']]\n",
    "renewable_energy = renewable_energy.set_index('date')"
   ]
  },
  {
   "cell_type": "code",
   "execution_count": null,
   "id": "032733cc",
   "metadata": {},
   "outputs": [],
   "source": [
    "gdp_rate = pd.read_csv('china_gdp_growth_rate.csv') #loads china gdp growth rate from 1990 to 2021\n",
    "\n",
    "# Clean GDP growth rate data\n",
    "gdp_rate = gdp_rate.drop(columns = ' Annual Change')\n",
    "gdp_rate['date'] = pd.to_datetime(gdp_rate['date']).dt.year\n",
    "gdp_rate = gdp_rate.set_index('date')\n",
    "gdp_rate = gdp_rate.loc[1990:]"
   ]
  },
  {
   "cell_type": "code",
   "execution_count": null,
   "id": "bf94e1ab",
   "metadata": {},
   "outputs": [],
   "source": [
    "gdp_capita = pd.read_csv('china_gdp_per_capita.csv') #loads china gdp per capita from 1990 to 2021\n",
    "\n",
    "#Clean GDP per capita data\n",
    "gdp_capita = gdp_capita.drop(columns = ' Annual Growth Rate (%)')\n",
    "gdp_capita['date'] = pd.to_datetime(gdp_capita['date']).dt.year\n",
    "gdp_capita = gdp_capita.set_index('date')\n",
    "gdp_capita = gdp_capita.loc[1990:]"
   ]
  },
  {
   "cell_type": "code",
   "execution_count": null,
   "id": "abd824e5",
   "metadata": {},
   "outputs": [],
   "source": [
    "# Merge the data\n",
    "data = pd.concat([carbon_emissions, population, gdp, gdp_rate, gdp_capita,\n",
    "                  inflation, power_consumption_capita, renewable_energy], axis=1)\n",
    "\n",
    "data = data.rename(columns={' Kilotons of Co2':'Kilotons of Co2', ' Population':'Population',\n",
    "                  ' GDP Growth (%)':'GDP Growth (%)', ' GDP Per Capita (US $)':'GDP Per Capita (US $)'})"
   ]
  },
  {
   "cell_type": "code",
   "execution_count": null,
   "id": "ad8100d5",
   "metadata": {},
   "outputs": [],
   "source": [
    "data.to_csv('data_clean_china.csv', index=True)"
   ]
  }
 ],
 "metadata": {
  "kernelspec": {
   "display_name": "Python 3 (ipykernel)",
   "language": "python",
   "name": "python3"
  },
  "language_info": {
   "codemirror_mode": {
    "name": "ipython",
    "version": 3
   },
   "file_extension": ".py",
   "mimetype": "text/x-python",
   "name": "python",
   "nbconvert_exporter": "python",
   "pygments_lexer": "ipython3",
   "version": "3.10.9"
  }
 },
 "nbformat": 4,
 "nbformat_minor": 5
}
